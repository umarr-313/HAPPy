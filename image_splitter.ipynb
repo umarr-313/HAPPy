{
 "cells": [
  {
   "cell_type": "code",
   "execution_count": null,
   "id": "3e141817-41e3-4640-b267-23ed815bedf5",
   "metadata": {},
   "outputs": [],
   "source": [
    "from glob import glob\n",
    "import os\n",
    "\n",
    "from PIL import Image"
   ]
  },
  {
   "cell_type": "code",
   "execution_count": null,
   "id": "aa4fe37e-bffd-4238-82db-5901e7cc64dc",
   "metadata": {},
   "outputs": [],
   "source": [
    "def split_image(image_path, output_dir, tile_size=256):\n",
    "    \"\"\"\n",
    "    Splits an image into smaller tiles of a given size.\n",
    "\n",
    "    :param image_path: Path to the input image.\n",
    "    :param output_dir: Directory to save the tiles.\n",
    "    :param tile_size: Size of each tile (default: 256x256).\n",
    "    \"\"\"\n",
    "    # Ensure the output directory exists\n",
    "    os.makedirs(output_dir, exist_ok=True)\n",
    "    \n",
    "    # Open the image\n",
    "    with Image.open(image_path) as img:\n",
    "        width, height = img.size\n",
    "        \n",
    "        # Calculate the number of tiles needed\n",
    "        x_tiles = (width + tile_size - 1) // tile_size\n",
    "        y_tiles = (height + tile_size - 1) // tile_size\n",
    "        \n",
    "        # Generate tiles\n",
    "        for x in range(x_tiles):\n",
    "            for y in range(y_tiles):\n",
    "                # Define the cropping box\n",
    "                left = x * tile_size\n",
    "                upper = y * tile_size\n",
    "                right = min((x + 1) * tile_size, width)\n",
    "                lower = min((y + 1) * tile_size, height)\n",
    "                \n",
    "                # Crop the image\n",
    "                box = (left, upper, right, lower)\n",
    "                tile = img.crop(box)\n",
    "                \n",
    "                # Save the tile\n",
    "                tile_name = f\"tile_{left}_{upper}_{x}-{y}.png\"\n",
    "                tile.save(os.path.join(output_dir, tile_name))\n"
   ]
  },
  {
   "cell_type": "code",
   "execution_count": null,
   "id": "85bf152c-74a6-4e13-8cea-e3227ec86c50",
   "metadata": {},
   "outputs": [],
   "source": []
  }
 ],
 "metadata": {
  "kernelspec": {
   "display_name": "Python 3 (ipykernel)",
   "language": "python",
   "name": "python3"
  },
  "language_info": {
   "codemirror_mode": {
    "name": "ipython",
    "version": 3
   },
   "file_extension": ".py",
   "mimetype": "text/x-python",
   "name": "python",
   "nbconvert_exporter": "python",
   "pygments_lexer": "ipython3",
   "version": "3.12.7"
  }
 },
 "nbformat": 4,
 "nbformat_minor": 5
}
